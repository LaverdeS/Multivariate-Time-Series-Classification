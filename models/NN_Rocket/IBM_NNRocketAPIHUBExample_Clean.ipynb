{
 "cells": [
  {
   "cell_type": "markdown",
   "metadata": {},
   "source": [
    "# Essential imports "
   ]
  },
  {
   "cell_type": "code",
   "execution_count": 29,
   "metadata": {},
   "outputs": [],
   "source": [
    "import requests\n",
    "import pandas as pd\n",
    "import json\n",
    "import numpy as np"
   ]
  },
  {
   "cell_type": "markdown",
   "metadata": {},
   "source": [
    "# Prepare the *headers* for the API request call with credentials"
   ]
  },
  {
   "cell_type": "code",
   "execution_count": 30,
   "metadata": {},
   "outputs": [],
   "source": [
    "import time\n",
    "headers = {\n",
    "    'accept': 'application/json',\n",
    "    'X-IBM-Client-Id': 'MYID',\n",
    "    'X-IBM-Client-Secret' : 'MYSECRET'   \n",
    "}"
   ]
  },
  {
   "cell_type": "markdown",
   "metadata": {},
   "source": [
    "# Preliminary *health check* to make sure your credentials are OK and you can access the service!"
   ]
  },
  {
   "cell_type": "code",
   "execution_count": 31,
   "metadata": {},
   "outputs": [
    {
     "name": "stdout",
     "output_type": "stream",
     "text": [
      "https://api.ibm.com/timeseriesclass/run/timeseriesclassification/health_check\n",
      "\"Success\"\n",
      "\n"
     ]
    }
   ],
   "source": [
    "base_url = \"https://api.ibm.com/\"\n",
    "health_check = \"timeseriesclass/run/timeseriesclassification/health_check\"\n",
    "full_health_check_url = base_url + health_check\n",
    "print(full_health_check_url)\n",
    "response = requests.get(full_health_check_url, headers=headers)\n",
    "print(response.text)"
   ]
  },
  {
   "cell_type": "markdown",
   "metadata": {},
   "source": [
    "# Prepare *parameters* and *files* inputs for the HTTP request for accessing the NN Rocket service"
   ]
  },
  {
   "cell_type": "code",
   "execution_count": 32,
   "metadata": {},
   "outputs": [],
   "source": [
    "params = (\n",
    "    ('time column', 'Time'),\n",
    "    ('time string format', '%Y-%m-%d %H:%M:%S'),\n",
    "    ('target columns', '[\"Value1\",\"Value2\",\"Value3\",\"Value4\",\"Value5\",\"Value6\"]'),\n",
    "    ('categorical columns', '[\"Category1\",\"Category2\",\"Category3\"]'),\n",
    "    ('label column', 'Label'),\n",
    "    ('snapshot column', 'Snapshot'),\n",
    "    ('train test split', '0.5'),\n",
    "    ('result type', 'accuracy'),\n",
    ")\n",
    "files = {'data file': open(\"sample.csv\", \"rb\")}"
   ]
  },
  {
   "cell_type": "markdown",
   "metadata": {},
   "source": [
    "# Your data file in CSV format & various validation checks, prior to making the HTTP request\n",
    "> ## The *validator* function below makes several basic sanity checks to help you avoid surprises"
   ]
  },
  {
   "cell_type": "code",
   "execution_count": 33,
   "metadata": {},
   "outputs": [],
   "source": [
    "data_file = \"sample.csv\"\n",
    "params_dict = dict(params)\n",
    "time_column = params_dict['time column']\n",
    "time_format = params_dict['time string format']\n",
    "target_columns = json.loads(params_dict['target columns'])\n",
    "label_column =  params_dict['label column']\n",
    "snapshot_column = params_dict['snapshot column']\n",
    "\n",
    "def validator(data_file, time_column, time_format, target_columns, label_column, snapshot_column):\n",
    "\n",
    "    try:\n",
    "        userdf = pd.read_csv(data_file)\n",
    "    except FileNotFoundError:\n",
    "        raise FileNotFoundError(\"Submitted csv file not found.\")\n",
    "    except EmptyDataError:\n",
    "        raise EmptyDataError(\"There is no data in the submitted csv\")\n",
    "    except ParserError:\n",
    "        raise ParserError(\"There is an issue parsing the submitted csv\")\n",
    "\n",
    "    # check column headings\n",
    "    column_names = userdf.columns\n",
    "    if time_column not in column_names:\n",
    "        raise ValueError(time_column+'  not found in submitted csv file')\n",
    "    if label_column not in column_names:\n",
    "        raise ValueError(label_column+'  not found in submitted csv file')\n",
    "    if snapshot_column not in column_names:\n",
    "        raise ValueError(snapshot_column+'  not found in submitted csv file')\n",
    "    # check target columns exist and is numeric \n",
    "    for t in target_columns:\n",
    "        if t not in column_names:\n",
    "            raise ValueError(t+'  not found in submitted csv file')\n",
    "        else:\n",
    "            if not userdf[t].apply(np.isreal).all(axis=None):\n",
    "                raise ValueError('Non numeric values found in column ',t)\n",
    "\n",
    "    # check time formatting\n",
    "    try:\n",
    "        userdf[time_column] = pd.to_datetime(userdf[time_column],format=time_format)\n",
    "    except ValueError as e:\n",
    "        raise ValueError('Specified time column not recognized'+e)\n",
    "\n",
    "    # check distinct timestamps\n",
    "    uniquetscount = userdf[[snapshot_column, time_column]].groupby([snapshot_column]).nunique()[time_column].tolist() \n",
    "    numtscount = userdf[[snapshot_column, time_column]].groupby([snapshot_column]).size().tolist()\n",
    "    if uniquetscount != numtscount:\n",
    "        raise ValueError('Duplicate timestamps detected in the csv')\n",
    "\n",
    "    # check label column for single cases\n",
    "    groupbylabel = userdf[[snapshot_column, label_column]].groupby(snapshot_column).mean()\n",
    "    labelid = groupbylabel[label_column]\n",
    "    if labelid.value_counts(ascending=True).tolist()[0] < 5:\n",
    "        raise ValueError('One or more labels have less than five snapshot instances and thus insufficient training sample')\n",
    "\n",
    "    return userdf\n",
    "\n",
    "user_df = validator(data_file, time_column, time_format, target_columns, label_column, snapshot_column)"
   ]
  },
  {
   "cell_type": "markdown",
   "metadata": {},
   "source": [
    "# Inspect data prior to sending it across"
   ]
  },
  {
   "cell_type": "code",
   "execution_count": 34,
   "metadata": {},
   "outputs": [
    {
     "data": {
      "text/html": [
       "<div>\n",
       "<style scoped>\n",
       "    .dataframe tbody tr th:only-of-type {\n",
       "        vertical-align: middle;\n",
       "    }\n",
       "\n",
       "    .dataframe tbody tr th {\n",
       "        vertical-align: top;\n",
       "    }\n",
       "\n",
       "    .dataframe thead th {\n",
       "        text-align: right;\n",
       "    }\n",
       "</style>\n",
       "<table border=\"1\" class=\"dataframe\">\n",
       "  <thead>\n",
       "    <tr style=\"text-align: right;\">\n",
       "      <th></th>\n",
       "      <th>Snapshot</th>\n",
       "      <th>Label</th>\n",
       "      <th>Time</th>\n",
       "      <th>Value1</th>\n",
       "      <th>Value2</th>\n",
       "      <th>Value3</th>\n",
       "      <th>Value4</th>\n",
       "      <th>Value5</th>\n",
       "      <th>Value6</th>\n",
       "      <th>Category1</th>\n",
       "      <th>Category2</th>\n",
       "      <th>Category3</th>\n",
       "    </tr>\n",
       "  </thead>\n",
       "  <tbody>\n",
       "    <tr>\n",
       "      <th>0</th>\n",
       "      <td>0</td>\n",
       "      <td>0</td>\n",
       "      <td>2025-09-21 19:00:00</td>\n",
       "      <td>0.079106</td>\n",
       "      <td>0.394032</td>\n",
       "      <td>0.551444</td>\n",
       "      <td>0.351565</td>\n",
       "      <td>0.023970</td>\n",
       "      <td>0.633883</td>\n",
       "      <td>A</td>\n",
       "      <td>A</td>\n",
       "      <td>E</td>\n",
       "    </tr>\n",
       "    <tr>\n",
       "      <th>1</th>\n",
       "      <td>0</td>\n",
       "      <td>0</td>\n",
       "      <td>2025-09-21 20:00:00</td>\n",
       "      <td>0.079106</td>\n",
       "      <td>0.394032</td>\n",
       "      <td>0.551444</td>\n",
       "      <td>0.351565</td>\n",
       "      <td>0.023970</td>\n",
       "      <td>0.633883</td>\n",
       "      <td>A</td>\n",
       "      <td>B</td>\n",
       "      <td>E</td>\n",
       "    </tr>\n",
       "    <tr>\n",
       "      <th>2</th>\n",
       "      <td>0</td>\n",
       "      <td>0</td>\n",
       "      <td>2025-09-21 21:00:00</td>\n",
       "      <td>-0.903497</td>\n",
       "      <td>-3.666397</td>\n",
       "      <td>-0.282844</td>\n",
       "      <td>-0.095881</td>\n",
       "      <td>-0.319605</td>\n",
       "      <td>0.972131</td>\n",
       "      <td>A</td>\n",
       "      <td>C</td>\n",
       "      <td>E</td>\n",
       "    </tr>\n",
       "    <tr>\n",
       "      <th>3</th>\n",
       "      <td>0</td>\n",
       "      <td>0</td>\n",
       "      <td>2025-09-21 22:00:00</td>\n",
       "      <td>1.116125</td>\n",
       "      <td>-0.656101</td>\n",
       "      <td>0.333118</td>\n",
       "      <td>1.624657</td>\n",
       "      <td>-0.569962</td>\n",
       "      <td>1.209171</td>\n",
       "      <td>A</td>\n",
       "      <td>C</td>\n",
       "      <td>E</td>\n",
       "    </tr>\n",
       "    <tr>\n",
       "      <th>4</th>\n",
       "      <td>0</td>\n",
       "      <td>0</td>\n",
       "      <td>2025-09-21 23:00:00</td>\n",
       "      <td>1.638200</td>\n",
       "      <td>1.405135</td>\n",
       "      <td>0.393875</td>\n",
       "      <td>1.187864</td>\n",
       "      <td>-0.271664</td>\n",
       "      <td>1.739182</td>\n",
       "      <td>A</td>\n",
       "      <td>C</td>\n",
       "      <td>E</td>\n",
       "    </tr>\n",
       "  </tbody>\n",
       "</table>\n",
       "</div>"
      ],
      "text/plain": [
       "   Snapshot  Label                Time    Value1    Value2    Value3  \\\n",
       "0         0      0 2025-09-21 19:00:00  0.079106  0.394032  0.551444   \n",
       "1         0      0 2025-09-21 20:00:00  0.079106  0.394032  0.551444   \n",
       "2         0      0 2025-09-21 21:00:00 -0.903497 -3.666397 -0.282844   \n",
       "3         0      0 2025-09-21 22:00:00  1.116125 -0.656101  0.333118   \n",
       "4         0      0 2025-09-21 23:00:00  1.638200  1.405135  0.393875   \n",
       "\n",
       "     Value4    Value5    Value6 Category1 Category2 Category3  \n",
       "0  0.351565  0.023970  0.633883         A         A         E  \n",
       "1  0.351565  0.023970  0.633883         A         B         E  \n",
       "2 -0.095881 -0.319605  0.972131         A         C         E  \n",
       "3  1.624657 -0.569962  1.209171         A         C         E  \n",
       "4  1.187864 -0.271664  1.739182         A         C         E  "
      ]
     },
     "execution_count": 34,
     "metadata": {},
     "output_type": "execute_result"
    }
   ],
   "source": [
    "user_df.head()"
   ]
  },
  {
   "cell_type": "markdown",
   "metadata": {},
   "source": [
    "# Make the HTTP request using the *requests* module\n",
    "> ## It returns a *task_id*"
   ]
  },
  {
   "cell_type": "code",
   "execution_count": 35,
   "metadata": {},
   "outputs": [
    {
     "name": "stdout",
     "output_type": "stream",
     "text": [
      "https://api.ibm.com/timeseriesclass/run/timeseriesclassification/nnrocket\n",
      "\"dcf133233cdb48c7a6578eff068f18ea\"\n"
     ]
    }
   ],
   "source": [
    "nnrocket_svc = \"timeseriesclass/run/timeseriesclassification/nnrocket\"\n",
    "\n",
    "full_svc_url = base_url+nnrocket_svc\n",
    "print(full_svc_url)\n",
    "response = requests.post(full_svc_url, headers=headers, params=params, files=files)\n",
    "task_id = response.text\n",
    "task_id=task_id.replace('\"\"','').rstrip()\n",
    "print(task_id)\n"
   ]
  },
  {
   "cell_type": "markdown",
   "metadata": {},
   "source": [
    "# Make a status check call against the above returned *task_id* "
   ]
  },
  {
   "cell_type": "code",
   "execution_count": 36,
   "metadata": {},
   "outputs": [
    {
     "name": "stdout",
     "output_type": "stream",
     "text": [
      "https://api.ibm.com/timeseriesclass/run/timeseriesclassification/status/dcf133233cdb48c7a6578eff068f18ea\n",
      "label,precision,recall,f1-score,support\n",
      "0,1.0,1.0,1.0,10.0\n",
      "1,1.0,1.0,1.0,10.0\n",
      "2,0.9090909090909091,1.0,0.9523809523809523,10.0\n",
      "3,1.0,0.9,0.9473684210526316,10.0\n",
      "accuracy,0.975,0.975,0.975,0.975\n",
      "macro avg,0.9772727272727273,0.975,0.9749373433583961,40.0\n",
      "weighted avg,0.9772727272727273,0.975,0.974937343358396,40.0\n",
      "\n"
     ]
    }
   ],
   "source": [
    "status_check_svc = \"timeseriesclass/run/timeseriesclassification/status/\"\n",
    "full_status_check_url = base_url+status_check_svc + task_id.replace('\"', '')\n",
    "print(full_status_check_url)\n",
    "response = requests.get(full_status_check_url, headers=headers)\n",
    "print(response.text)"
   ]
  },
  {
   "cell_type": "markdown",
   "metadata": {},
   "source": [
    "# Check Again! Using the same *task_id* "
   ]
  },
  {
   "cell_type": "code",
   "execution_count": 37,
   "metadata": {},
   "outputs": [
    {
     "name": "stdout",
     "output_type": "stream",
     "text": [
      "label,precision,recall,f1-score,support\n",
      "0,1.0,1.0,1.0,10.0\n",
      "1,1.0,1.0,1.0,10.0\n",
      "2,0.9090909090909091,1.0,0.9523809523809523,10.0\n",
      "3,1.0,0.9,0.9473684210526316,10.0\n",
      "accuracy,0.975,0.975,0.975,0.975\n",
      "macro avg,0.9772727272727273,0.975,0.9749373433583961,40.0\n",
      "weighted avg,0.9772727272727273,0.975,0.974937343358396,40.0\n",
      "\n"
     ]
    }
   ],
   "source": [
    "response = requests.get(full_status_check_url, headers=headers)\n",
    "print(response.text)"
   ]
  },
  {
   "cell_type": "code",
   "execution_count": null,
   "metadata": {},
   "outputs": [],
   "source": []
  }
 ],
 "metadata": {
  "kernelspec": {
   "display_name": "Python 3 (ipykernel)",
   "language": "python",
   "name": "python3"
  },
  "language_info": {
   "codemirror_mode": {
    "name": "ipython",
    "version": 3
   },
   "file_extension": ".py",
   "mimetype": "text/x-python",
   "name": "python",
   "nbconvert_exporter": "python",
   "pygments_lexer": "ipython3",
   "version": "3.9.7"
  }
 },
 "nbformat": 4,
 "nbformat_minor": 4
}
