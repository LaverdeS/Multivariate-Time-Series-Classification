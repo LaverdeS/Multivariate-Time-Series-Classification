{
  "cells": [
    {
      "cell_type": "markdown",
      "metadata": {
        "id": "KcLipB1DUSHo"
      },
      "source": [
        "# Essential imports "
      ]
    },
    {
      "cell_type": "code",
      "execution_count": 1,
      "metadata": {
        "id": "h-rwq5iDUSHu"
      },
      "outputs": [],
      "source": [
        "import requests\n",
        "import pandas as pd\n",
        "import json\n",
        "import numpy as np"
      ]
    },
    {
      "cell_type": "markdown",
      "metadata": {
        "id": "_7S2wmukUSHx"
      },
      "source": [
        "# Prepare the *headers* for the API request call with credentials"
      ]
    },
    {
      "cell_type": "code",
      "execution_count": 2,
      "metadata": {
        "id": "253ByfVIUSHy"
      },
      "outputs": [],
      "source": [
        "import time\n",
        "headers = {\n",
        "    'accept': 'application/json',\n",
        "    'X-IBM-Client-Id': 'fa952a57-3114-47bd-81ef-b0a46b572999',   # ibm-id lavmlk20201@gmail.com\n",
        "    'X-IBM-Client-Secret' : 'A7eX4qT0jP1pU2oS4bE0dH5cL8xF8oI7pN5dT7kY6vB7oY0vI1'   \n",
        "}"
      ]
    },
    {
      "cell_type": "markdown",
      "metadata": {
        "id": "Csb9WVK2USHz"
      },
      "source": [
        "# Preliminary *health check* to make sure your credentials are OK and you can access the service!"
      ]
    },
    {
      "cell_type": "code",
      "execution_count": 3,
      "metadata": {
        "colab": {
          "base_uri": "https://localhost:8080/"
        },
        "id": "aYMSX-nLUSH0",
        "outputId": "94663fc3-49ae-4631-c065-08a635319cf2"
      },
      "outputs": [
        {
          "output_type": "stream",
          "name": "stdout",
          "text": [
            "https://api.ibm.com/timeseriesclass/run/timeseriesclassification/health_check\n",
            "\"Success\"\n",
            "\n"
          ]
        }
      ],
      "source": [
        "base_url = \"https://api.ibm.com/\"\n",
        "health_check = \"timeseriesclass/run/timeseriesclassification/health_check\"\n",
        "full_health_check_url = base_url + health_check\n",
        "print(full_health_check_url)\n",
        "response = requests.get(full_health_check_url, headers=headers)\n",
        "print(response.text)"
      ]
    },
    {
      "cell_type": "markdown",
      "metadata": {
        "id": "NRJMsu4gUSH3"
      },
      "source": [
        "# Prepare *parameters* and *files* inputs for the HTTP request for accessing the NN Rocket service"
      ]
    },
    {
      "cell_type": "code",
      "execution_count": 21,
      "metadata": {
        "id": "evUAJMwgUSH4"
      },
      "outputs": [],
      "source": [
        "params = (\n",
        "    ('time column', 'Time'),\n",
        "    ('time string format', '%Y-%m-%d %H:%M:%S'),\n",
        "    ('target columns', '[\"Value1\",\"Value2\",\"Value3\",\"Value4\",\"Value5\",\"Value6\"]'),\n",
        "    ('categorical columns', '[\"Category1\",\"Category2\",\"Category3\"]'),\n",
        "    ('label column', 'Label'),\n",
        "    ('snapshot column', 'Snapshot'),\n",
        "    ('train test split', '0.5'),\n",
        "    ('result type', 'accuracy'),\n",
        ")\n",
        "files = {'data file': open(\"user_df_tracking.csv\", \"rb\")}"
      ]
    },
    {
      "cell_type": "markdown",
      "metadata": {
        "id": "YUiRQQWmUSH5"
      },
      "source": [
        "# Your data file in CSV format & various validation checks, prior to making the HTTP request\n",
        "> ## The *validator* function below makes several basic sanity checks to help you avoid surprises"
      ]
    },
    {
      "cell_type": "code",
      "execution_count": 22,
      "metadata": {
        "id": "glanuejWUSH6"
      },
      "outputs": [],
      "source": [
        "data_file = \"user_df_tracking.csv\"   # \"sample.csv\"\n",
        "params_dict = dict(params)\n",
        "time_column = params_dict['time column']\n",
        "time_format = params_dict['time string format']\n",
        "target_columns = json.loads(params_dict['target columns'])\n",
        "label_column =  params_dict['label column']\n",
        "snapshot_column = params_dict['snapshot column']\n",
        "\n",
        "def validator(data_file, time_column, time_format, target_columns, label_column, snapshot_column):\n",
        "\n",
        "    try:\n",
        "        userdf = pd.read_csv(data_file)\n",
        "    except FileNotFoundError:\n",
        "        raise FileNotFoundError(\"Submitted csv file not found.\")\n",
        "    except EmptyDataError:\n",
        "        raise EmptyDataError(\"There is no data in the submitted csv\")\n",
        "    except ParserError:\n",
        "        raise ParserError(\"There is an issue parsing the submitted csv\")\n",
        "\n",
        "    # check column headings\n",
        "    column_names = userdf.columns\n",
        "    if time_column not in column_names:\n",
        "        raise ValueError(time_column+'  not found in submitted csv file')\n",
        "    if label_column not in column_names:\n",
        "        raise ValueError(label_column+'  not found in submitted csv file')\n",
        "    if snapshot_column not in column_names:\n",
        "        raise ValueError(snapshot_column+'  not found in submitted csv file')\n",
        "    # check target columns exist and is numeric \n",
        "    for t in target_columns:\n",
        "        if t not in column_names:\n",
        "            raise ValueError(t+'  not found in submitted csv file')\n",
        "        else:\n",
        "            if not userdf[t].apply(np.isreal).all(axis=None):\n",
        "                raise ValueError('Non numeric values found in column ',t)\n",
        "\n",
        "    # check time formatting\n",
        "    try:\n",
        "        userdf[time_column] = pd.to_datetime(userdf[time_column],format=time_format)\n",
        "    except ValueError as e:\n",
        "        raise ValueError('Specified time column not recognized'+e)\n",
        "\n",
        "    # check distinct timestamps\n",
        "    uniquetscount = userdf[[snapshot_column, time_column]].groupby([snapshot_column]).nunique()[time_column].tolist() \n",
        "    numtscount = userdf[[snapshot_column, time_column]].groupby([snapshot_column]).size().tolist()\n",
        "    if uniquetscount != numtscount:\n",
        "        raise ValueError('Duplicate timestamps detected in the csv')\n",
        "\n",
        "    # check label column for single cases\n",
        "    groupbylabel = userdf[[snapshot_column, label_column]].groupby(snapshot_column).mean()\n",
        "    labelid = groupbylabel[label_column]\n",
        "    if labelid.value_counts(ascending=True).tolist()[0] < 5:\n",
        "        raise ValueError('One or more labels have less than five snapshot instances and thus insufficient training sample')\n",
        "\n",
        "    return userdf\n",
        "\n",
        "user_df = validator(data_file, time_column, time_format, target_columns, label_column, snapshot_column)"
      ]
    },
    {
      "cell_type": "markdown",
      "metadata": {
        "id": "j0HI2zzwUSH-"
      },
      "source": [
        "# Inspect data prior to sending it across"
      ]
    },
    {
      "cell_type": "code",
      "execution_count": 6,
      "metadata": {
        "colab": {
          "base_uri": "https://localhost:8080/",
          "height": 206
        },
        "id": "iBo_-xhnUSH_",
        "outputId": "bcc1a20d-6744-443f-edd8-5a76487e32c4"
      },
      "outputs": [
        {
          "output_type": "execute_result",
          "data": {
            "text/plain": [
              "   Snapshot  Label                Time    Value1    Value2    Value3  \\\n",
              "0         0      0 2025-09-21 19:00:00  0.079106  0.394032  0.551444   \n",
              "1         0      0 2025-09-21 20:00:00  0.079106  0.394032  0.551444   \n",
              "2         0      0 2025-09-21 21:00:00 -0.903497 -3.666397 -0.282844   \n",
              "3         0      0 2025-09-21 22:00:00  1.116125 -0.656101  0.333118   \n",
              "4         0      0 2025-09-21 23:00:00  1.638200  1.405135  0.393875   \n",
              "\n",
              "     Value4    Value5    Value6 Category1 Category2 Category3  \n",
              "0  0.351565  0.023970  0.633883         A         A         E  \n",
              "1  0.351565  0.023970  0.633883         A         B         E  \n",
              "2 -0.095881 -0.319605  0.972131         A         C         E  \n",
              "3  1.624657 -0.569962  1.209171         A         C         E  \n",
              "4  1.187864 -0.271664  1.739182         A         C         E  "
            ],
            "text/html": [
              "\n",
              "  <div id=\"df-7f352d73-7273-4f5c-b31b-e1aa35ac5977\">\n",
              "    <div class=\"colab-df-container\">\n",
              "      <div>\n",
              "<style scoped>\n",
              "    .dataframe tbody tr th:only-of-type {\n",
              "        vertical-align: middle;\n",
              "    }\n",
              "\n",
              "    .dataframe tbody tr th {\n",
              "        vertical-align: top;\n",
              "    }\n",
              "\n",
              "    .dataframe thead th {\n",
              "        text-align: right;\n",
              "    }\n",
              "</style>\n",
              "<table border=\"1\" class=\"dataframe\">\n",
              "  <thead>\n",
              "    <tr style=\"text-align: right;\">\n",
              "      <th></th>\n",
              "      <th>Snapshot</th>\n",
              "      <th>Label</th>\n",
              "      <th>Time</th>\n",
              "      <th>Value1</th>\n",
              "      <th>Value2</th>\n",
              "      <th>Value3</th>\n",
              "      <th>Value4</th>\n",
              "      <th>Value5</th>\n",
              "      <th>Value6</th>\n",
              "      <th>Category1</th>\n",
              "      <th>Category2</th>\n",
              "      <th>Category3</th>\n",
              "    </tr>\n",
              "  </thead>\n",
              "  <tbody>\n",
              "    <tr>\n",
              "      <th>0</th>\n",
              "      <td>0</td>\n",
              "      <td>0</td>\n",
              "      <td>2025-09-21 19:00:00</td>\n",
              "      <td>0.079106</td>\n",
              "      <td>0.394032</td>\n",
              "      <td>0.551444</td>\n",
              "      <td>0.351565</td>\n",
              "      <td>0.023970</td>\n",
              "      <td>0.633883</td>\n",
              "      <td>A</td>\n",
              "      <td>A</td>\n",
              "      <td>E</td>\n",
              "    </tr>\n",
              "    <tr>\n",
              "      <th>1</th>\n",
              "      <td>0</td>\n",
              "      <td>0</td>\n",
              "      <td>2025-09-21 20:00:00</td>\n",
              "      <td>0.079106</td>\n",
              "      <td>0.394032</td>\n",
              "      <td>0.551444</td>\n",
              "      <td>0.351565</td>\n",
              "      <td>0.023970</td>\n",
              "      <td>0.633883</td>\n",
              "      <td>A</td>\n",
              "      <td>B</td>\n",
              "      <td>E</td>\n",
              "    </tr>\n",
              "    <tr>\n",
              "      <th>2</th>\n",
              "      <td>0</td>\n",
              "      <td>0</td>\n",
              "      <td>2025-09-21 21:00:00</td>\n",
              "      <td>-0.903497</td>\n",
              "      <td>-3.666397</td>\n",
              "      <td>-0.282844</td>\n",
              "      <td>-0.095881</td>\n",
              "      <td>-0.319605</td>\n",
              "      <td>0.972131</td>\n",
              "      <td>A</td>\n",
              "      <td>C</td>\n",
              "      <td>E</td>\n",
              "    </tr>\n",
              "    <tr>\n",
              "      <th>3</th>\n",
              "      <td>0</td>\n",
              "      <td>0</td>\n",
              "      <td>2025-09-21 22:00:00</td>\n",
              "      <td>1.116125</td>\n",
              "      <td>-0.656101</td>\n",
              "      <td>0.333118</td>\n",
              "      <td>1.624657</td>\n",
              "      <td>-0.569962</td>\n",
              "      <td>1.209171</td>\n",
              "      <td>A</td>\n",
              "      <td>C</td>\n",
              "      <td>E</td>\n",
              "    </tr>\n",
              "    <tr>\n",
              "      <th>4</th>\n",
              "      <td>0</td>\n",
              "      <td>0</td>\n",
              "      <td>2025-09-21 23:00:00</td>\n",
              "      <td>1.638200</td>\n",
              "      <td>1.405135</td>\n",
              "      <td>0.393875</td>\n",
              "      <td>1.187864</td>\n",
              "      <td>-0.271664</td>\n",
              "      <td>1.739182</td>\n",
              "      <td>A</td>\n",
              "      <td>C</td>\n",
              "      <td>E</td>\n",
              "    </tr>\n",
              "  </tbody>\n",
              "</table>\n",
              "</div>\n",
              "      <button class=\"colab-df-convert\" onclick=\"convertToInteractive('df-7f352d73-7273-4f5c-b31b-e1aa35ac5977')\"\n",
              "              title=\"Convert this dataframe to an interactive table.\"\n",
              "              style=\"display:none;\">\n",
              "        \n",
              "  <svg xmlns=\"http://www.w3.org/2000/svg\" height=\"24px\"viewBox=\"0 0 24 24\"\n",
              "       width=\"24px\">\n",
              "    <path d=\"M0 0h24v24H0V0z\" fill=\"none\"/>\n",
              "    <path d=\"M18.56 5.44l.94 2.06.94-2.06 2.06-.94-2.06-.94-.94-2.06-.94 2.06-2.06.94zm-11 1L8.5 8.5l.94-2.06 2.06-.94-2.06-.94L8.5 2.5l-.94 2.06-2.06.94zm10 10l.94 2.06.94-2.06 2.06-.94-2.06-.94-.94-2.06-.94 2.06-2.06.94z\"/><path d=\"M17.41 7.96l-1.37-1.37c-.4-.4-.92-.59-1.43-.59-.52 0-1.04.2-1.43.59L10.3 9.45l-7.72 7.72c-.78.78-.78 2.05 0 2.83L4 21.41c.39.39.9.59 1.41.59.51 0 1.02-.2 1.41-.59l7.78-7.78 2.81-2.81c.8-.78.8-2.07 0-2.86zM5.41 20L4 18.59l7.72-7.72 1.47 1.35L5.41 20z\"/>\n",
              "  </svg>\n",
              "      </button>\n",
              "      \n",
              "  <style>\n",
              "    .colab-df-container {\n",
              "      display:flex;\n",
              "      flex-wrap:wrap;\n",
              "      gap: 12px;\n",
              "    }\n",
              "\n",
              "    .colab-df-convert {\n",
              "      background-color: #E8F0FE;\n",
              "      border: none;\n",
              "      border-radius: 50%;\n",
              "      cursor: pointer;\n",
              "      display: none;\n",
              "      fill: #1967D2;\n",
              "      height: 32px;\n",
              "      padding: 0 0 0 0;\n",
              "      width: 32px;\n",
              "    }\n",
              "\n",
              "    .colab-df-convert:hover {\n",
              "      background-color: #E2EBFA;\n",
              "      box-shadow: 0px 1px 2px rgba(60, 64, 67, 0.3), 0px 1px 3px 1px rgba(60, 64, 67, 0.15);\n",
              "      fill: #174EA6;\n",
              "    }\n",
              "\n",
              "    [theme=dark] .colab-df-convert {\n",
              "      background-color: #3B4455;\n",
              "      fill: #D2E3FC;\n",
              "    }\n",
              "\n",
              "    [theme=dark] .colab-df-convert:hover {\n",
              "      background-color: #434B5C;\n",
              "      box-shadow: 0px 1px 3px 1px rgba(0, 0, 0, 0.15);\n",
              "      filter: drop-shadow(0px 1px 2px rgba(0, 0, 0, 0.3));\n",
              "      fill: #FFFFFF;\n",
              "    }\n",
              "  </style>\n",
              "\n",
              "      <script>\n",
              "        const buttonEl =\n",
              "          document.querySelector('#df-7f352d73-7273-4f5c-b31b-e1aa35ac5977 button.colab-df-convert');\n",
              "        buttonEl.style.display =\n",
              "          google.colab.kernel.accessAllowed ? 'block' : 'none';\n",
              "\n",
              "        async function convertToInteractive(key) {\n",
              "          const element = document.querySelector('#df-7f352d73-7273-4f5c-b31b-e1aa35ac5977');\n",
              "          const dataTable =\n",
              "            await google.colab.kernel.invokeFunction('convertToInteractive',\n",
              "                                                     [key], {});\n",
              "          if (!dataTable) return;\n",
              "\n",
              "          const docLinkHtml = 'Like what you see? Visit the ' +\n",
              "            '<a target=\"_blank\" href=https://colab.research.google.com/notebooks/data_table.ipynb>data table notebook</a>'\n",
              "            + ' to learn more about interactive tables.';\n",
              "          element.innerHTML = '';\n",
              "          dataTable['output_type'] = 'display_data';\n",
              "          await google.colab.output.renderOutput(dataTable, element);\n",
              "          const docLink = document.createElement('div');\n",
              "          docLink.innerHTML = docLinkHtml;\n",
              "          element.appendChild(docLink);\n",
              "        }\n",
              "      </script>\n",
              "    </div>\n",
              "  </div>\n",
              "  "
            ]
          },
          "metadata": {},
          "execution_count": 6
        }
      ],
      "source": [
        "user_df.head()"
      ]
    },
    {
      "cell_type": "code",
      "source": [
        "user_df.Snapshot.value_counts().describe()\n",
        "\n",
        "# Snapshot is 80 different values 100 times each --> equivalent to the series_id column in eye-tracking data after exploting dataframe"
      ],
      "metadata": {
        "colab": {
          "base_uri": "https://localhost:8080/"
        },
        "id": "zaVO898ASMP4",
        "outputId": "0ff2d188-fc36-4a94-f382-ab195220b6d7"
      },
      "execution_count": 7,
      "outputs": [
        {
          "output_type": "execute_result",
          "data": {
            "text/plain": [
              "count     80.0\n",
              "mean     100.0\n",
              "std        0.0\n",
              "min      100.0\n",
              "25%      100.0\n",
              "50%      100.0\n",
              "75%      100.0\n",
              "max      100.0\n",
              "Name: Snapshot, dtype: float64"
            ]
          },
          "metadata": {},
          "execution_count": 7
        }
      ]
    },
    {
      "cell_type": "code",
      "source": [
        "# GazeDefy\n",
        "\n",
        "# adapt dataframe to fit NNRocket user_df\n",
        "\n",
        "user_df_eye_tracking = pd.read_csv(\"exploted_gazedefy.csv\")\n",
        "user_df_eye_tracking.columns = [\"Snapshot\",\t\"Label\",\t\"Time\",\t\"Value1\",\t\"Value2\",\t\"Value3\",\t\"Value4\",\t\"Value5\",\t\"Value6\",\t\"Category1\"]\n",
        "party_dict = {\"Anoth\": 1,\n",
        "           \"Arif\": 2,\n",
        "           \"Ashok\": 3,\n",
        "           \"Gowthom\": 4,\n",
        "           \"Josephin\": 5,\n",
        "           \"Raghu\": 6,\n",
        "           \"Sebastian\": 7,\n",
        "           }\n",
        "user_df_eye_tracking.replace({\"Label\": party_dict}, inplace=True)\n",
        "user_df_eye_tracking"
      ],
      "metadata": {
        "colab": {
          "base_uri": "https://localhost:8080/",
          "height": 424
        },
        "id": "pDpYB2RjTCkL",
        "outputId": "4e6d5a79-d140-48b3-8a7d-3be102503184"
      },
      "execution_count": 19,
      "outputs": [
        {
          "output_type": "execute_result",
          "data": {
            "text/plain": [
              "       Snapshot  Label  Time    Value1    Value2  Value3  Value4  Value5  \\\n",
              "0             0      1     0  0.023858  2.253397  0.2780  0.1360      67   \n",
              "1             0      1     1  0.023858  2.253397  0.2780  0.1360      67   \n",
              "2             0      1     2  0.023858  2.253397  0.2780  0.1360      67   \n",
              "3             0      1     3  0.023858  2.209508  0.2780  0.1360      67   \n",
              "4             0      1     4  0.023858  2.134531  0.2780  0.1360      67   \n",
              "...         ...    ...   ...       ...       ...     ...     ...     ...   \n",
              "99493       629      7   156 -0.324802  1.723117  0.6556  0.8524      67   \n",
              "99494       629      7   157 -0.022118  2.093707  0.6622  0.8540      67   \n",
              "99495       629      7   158  0.066907  2.299353  0.6728  0.8547      67   \n",
              "99496       629      7   159 -0.075533  2.282215  0.6889  0.8538      67   \n",
              "99497       629      7   160 -0.217972  2.265078  0.7050  0.8530      67   \n",
              "\n",
              "         Value6  Category1  \n",
              "0      2.308106          2  \n",
              "1      2.308106          2  \n",
              "2      2.308106          2  \n",
              "3      2.308106          2  \n",
              "4      2.308106          2  \n",
              "...         ...        ...  \n",
              "99493  1.769930          3  \n",
              "99494  1.769930          3  \n",
              "99495  1.769930          3  \n",
              "99496  1.769930          3  \n",
              "99497  1.769930          3  \n",
              "\n",
              "[99498 rows x 10 columns]"
            ],
            "text/html": [
              "\n",
              "  <div id=\"df-bd2a4d19-b826-45db-8b04-c3d0b6c80529\">\n",
              "    <div class=\"colab-df-container\">\n",
              "      <div>\n",
              "<style scoped>\n",
              "    .dataframe tbody tr th:only-of-type {\n",
              "        vertical-align: middle;\n",
              "    }\n",
              "\n",
              "    .dataframe tbody tr th {\n",
              "        vertical-align: top;\n",
              "    }\n",
              "\n",
              "    .dataframe thead th {\n",
              "        text-align: right;\n",
              "    }\n",
              "</style>\n",
              "<table border=\"1\" class=\"dataframe\">\n",
              "  <thead>\n",
              "    <tr style=\"text-align: right;\">\n",
              "      <th></th>\n",
              "      <th>Snapshot</th>\n",
              "      <th>Label</th>\n",
              "      <th>Time</th>\n",
              "      <th>Value1</th>\n",
              "      <th>Value2</th>\n",
              "      <th>Value3</th>\n",
              "      <th>Value4</th>\n",
              "      <th>Value5</th>\n",
              "      <th>Value6</th>\n",
              "      <th>Category1</th>\n",
              "    </tr>\n",
              "  </thead>\n",
              "  <tbody>\n",
              "    <tr>\n",
              "      <th>0</th>\n",
              "      <td>0</td>\n",
              "      <td>1</td>\n",
              "      <td>0</td>\n",
              "      <td>0.023858</td>\n",
              "      <td>2.253397</td>\n",
              "      <td>0.2780</td>\n",
              "      <td>0.1360</td>\n",
              "      <td>67</td>\n",
              "      <td>2.308106</td>\n",
              "      <td>2</td>\n",
              "    </tr>\n",
              "    <tr>\n",
              "      <th>1</th>\n",
              "      <td>0</td>\n",
              "      <td>1</td>\n",
              "      <td>1</td>\n",
              "      <td>0.023858</td>\n",
              "      <td>2.253397</td>\n",
              "      <td>0.2780</td>\n",
              "      <td>0.1360</td>\n",
              "      <td>67</td>\n",
              "      <td>2.308106</td>\n",
              "      <td>2</td>\n",
              "    </tr>\n",
              "    <tr>\n",
              "      <th>2</th>\n",
              "      <td>0</td>\n",
              "      <td>1</td>\n",
              "      <td>2</td>\n",
              "      <td>0.023858</td>\n",
              "      <td>2.253397</td>\n",
              "      <td>0.2780</td>\n",
              "      <td>0.1360</td>\n",
              "      <td>67</td>\n",
              "      <td>2.308106</td>\n",
              "      <td>2</td>\n",
              "    </tr>\n",
              "    <tr>\n",
              "      <th>3</th>\n",
              "      <td>0</td>\n",
              "      <td>1</td>\n",
              "      <td>3</td>\n",
              "      <td>0.023858</td>\n",
              "      <td>2.209508</td>\n",
              "      <td>0.2780</td>\n",
              "      <td>0.1360</td>\n",
              "      <td>67</td>\n",
              "      <td>2.308106</td>\n",
              "      <td>2</td>\n",
              "    </tr>\n",
              "    <tr>\n",
              "      <th>4</th>\n",
              "      <td>0</td>\n",
              "      <td>1</td>\n",
              "      <td>4</td>\n",
              "      <td>0.023858</td>\n",
              "      <td>2.134531</td>\n",
              "      <td>0.2780</td>\n",
              "      <td>0.1360</td>\n",
              "      <td>67</td>\n",
              "      <td>2.308106</td>\n",
              "      <td>2</td>\n",
              "    </tr>\n",
              "    <tr>\n",
              "      <th>...</th>\n",
              "      <td>...</td>\n",
              "      <td>...</td>\n",
              "      <td>...</td>\n",
              "      <td>...</td>\n",
              "      <td>...</td>\n",
              "      <td>...</td>\n",
              "      <td>...</td>\n",
              "      <td>...</td>\n",
              "      <td>...</td>\n",
              "      <td>...</td>\n",
              "    </tr>\n",
              "    <tr>\n",
              "      <th>99493</th>\n",
              "      <td>629</td>\n",
              "      <td>7</td>\n",
              "      <td>156</td>\n",
              "      <td>-0.324802</td>\n",
              "      <td>1.723117</td>\n",
              "      <td>0.6556</td>\n",
              "      <td>0.8524</td>\n",
              "      <td>67</td>\n",
              "      <td>1.769930</td>\n",
              "      <td>3</td>\n",
              "    </tr>\n",
              "    <tr>\n",
              "      <th>99494</th>\n",
              "      <td>629</td>\n",
              "      <td>7</td>\n",
              "      <td>157</td>\n",
              "      <td>-0.022118</td>\n",
              "      <td>2.093707</td>\n",
              "      <td>0.6622</td>\n",
              "      <td>0.8540</td>\n",
              "      <td>67</td>\n",
              "      <td>1.769930</td>\n",
              "      <td>3</td>\n",
              "    </tr>\n",
              "    <tr>\n",
              "      <th>99495</th>\n",
              "      <td>629</td>\n",
              "      <td>7</td>\n",
              "      <td>158</td>\n",
              "      <td>0.066907</td>\n",
              "      <td>2.299353</td>\n",
              "      <td>0.6728</td>\n",
              "      <td>0.8547</td>\n",
              "      <td>67</td>\n",
              "      <td>1.769930</td>\n",
              "      <td>3</td>\n",
              "    </tr>\n",
              "    <tr>\n",
              "      <th>99496</th>\n",
              "      <td>629</td>\n",
              "      <td>7</td>\n",
              "      <td>159</td>\n",
              "      <td>-0.075533</td>\n",
              "      <td>2.282215</td>\n",
              "      <td>0.6889</td>\n",
              "      <td>0.8538</td>\n",
              "      <td>67</td>\n",
              "      <td>1.769930</td>\n",
              "      <td>3</td>\n",
              "    </tr>\n",
              "    <tr>\n",
              "      <th>99497</th>\n",
              "      <td>629</td>\n",
              "      <td>7</td>\n",
              "      <td>160</td>\n",
              "      <td>-0.217972</td>\n",
              "      <td>2.265078</td>\n",
              "      <td>0.7050</td>\n",
              "      <td>0.8530</td>\n",
              "      <td>67</td>\n",
              "      <td>1.769930</td>\n",
              "      <td>3</td>\n",
              "    </tr>\n",
              "  </tbody>\n",
              "</table>\n",
              "<p>99498 rows × 10 columns</p>\n",
              "</div>\n",
              "      <button class=\"colab-df-convert\" onclick=\"convertToInteractive('df-bd2a4d19-b826-45db-8b04-c3d0b6c80529')\"\n",
              "              title=\"Convert this dataframe to an interactive table.\"\n",
              "              style=\"display:none;\">\n",
              "        \n",
              "  <svg xmlns=\"http://www.w3.org/2000/svg\" height=\"24px\"viewBox=\"0 0 24 24\"\n",
              "       width=\"24px\">\n",
              "    <path d=\"M0 0h24v24H0V0z\" fill=\"none\"/>\n",
              "    <path d=\"M18.56 5.44l.94 2.06.94-2.06 2.06-.94-2.06-.94-.94-2.06-.94 2.06-2.06.94zm-11 1L8.5 8.5l.94-2.06 2.06-.94-2.06-.94L8.5 2.5l-.94 2.06-2.06.94zm10 10l.94 2.06.94-2.06 2.06-.94-2.06-.94-.94-2.06-.94 2.06-2.06.94z\"/><path d=\"M17.41 7.96l-1.37-1.37c-.4-.4-.92-.59-1.43-.59-.52 0-1.04.2-1.43.59L10.3 9.45l-7.72 7.72c-.78.78-.78 2.05 0 2.83L4 21.41c.39.39.9.59 1.41.59.51 0 1.02-.2 1.41-.59l7.78-7.78 2.81-2.81c.8-.78.8-2.07 0-2.86zM5.41 20L4 18.59l7.72-7.72 1.47 1.35L5.41 20z\"/>\n",
              "  </svg>\n",
              "      </button>\n",
              "      \n",
              "  <style>\n",
              "    .colab-df-container {\n",
              "      display:flex;\n",
              "      flex-wrap:wrap;\n",
              "      gap: 12px;\n",
              "    }\n",
              "\n",
              "    .colab-df-convert {\n",
              "      background-color: #E8F0FE;\n",
              "      border: none;\n",
              "      border-radius: 50%;\n",
              "      cursor: pointer;\n",
              "      display: none;\n",
              "      fill: #1967D2;\n",
              "      height: 32px;\n",
              "      padding: 0 0 0 0;\n",
              "      width: 32px;\n",
              "    }\n",
              "\n",
              "    .colab-df-convert:hover {\n",
              "      background-color: #E2EBFA;\n",
              "      box-shadow: 0px 1px 2px rgba(60, 64, 67, 0.3), 0px 1px 3px 1px rgba(60, 64, 67, 0.15);\n",
              "      fill: #174EA6;\n",
              "    }\n",
              "\n",
              "    [theme=dark] .colab-df-convert {\n",
              "      background-color: #3B4455;\n",
              "      fill: #D2E3FC;\n",
              "    }\n",
              "\n",
              "    [theme=dark] .colab-df-convert:hover {\n",
              "      background-color: #434B5C;\n",
              "      box-shadow: 0px 1px 3px 1px rgba(0, 0, 0, 0.15);\n",
              "      filter: drop-shadow(0px 1px 2px rgba(0, 0, 0, 0.3));\n",
              "      fill: #FFFFFF;\n",
              "    }\n",
              "  </style>\n",
              "\n",
              "      <script>\n",
              "        const buttonEl =\n",
              "          document.querySelector('#df-bd2a4d19-b826-45db-8b04-c3d0b6c80529 button.colab-df-convert');\n",
              "        buttonEl.style.display =\n",
              "          google.colab.kernel.accessAllowed ? 'block' : 'none';\n",
              "\n",
              "        async function convertToInteractive(key) {\n",
              "          const element = document.querySelector('#df-bd2a4d19-b826-45db-8b04-c3d0b6c80529');\n",
              "          const dataTable =\n",
              "            await google.colab.kernel.invokeFunction('convertToInteractive',\n",
              "                                                     [key], {});\n",
              "          if (!dataTable) return;\n",
              "\n",
              "          const docLinkHtml = 'Like what you see? Visit the ' +\n",
              "            '<a target=\"_blank\" href=https://colab.research.google.com/notebooks/data_table.ipynb>data table notebook</a>'\n",
              "            + ' to learn more about interactive tables.';\n",
              "          element.innerHTML = '';\n",
              "          dataTable['output_type'] = 'display_data';\n",
              "          await google.colab.output.renderOutput(dataTable, element);\n",
              "          const docLink = document.createElement('div');\n",
              "          docLink.innerHTML = docLinkHtml;\n",
              "          element.appendChild(docLink);\n",
              "        }\n",
              "      </script>\n",
              "    </div>\n",
              "  </div>\n",
              "  "
            ]
          },
          "metadata": {},
          "execution_count": 19
        }
      ]
    },
    {
      "cell_type": "code",
      "source": [
        "user_df_eye_tracking.to_csv(\"user_df_tracking.csv\", index=None)"
      ],
      "metadata": {
        "id": "lfXv-zFoviRf"
      },
      "execution_count": 20,
      "outputs": []
    },
    {
      "cell_type": "code",
      "source": [
        "user_df.Value5.value_counts().describe()"
      ],
      "metadata": {
        "colab": {
          "base_uri": "https://localhost:8080/"
        },
        "id": "M5sLqSwuuOje",
        "outputId": "12a5751d-34c5-47d9-e083-67632b8a2d0a"
      },
      "execution_count": 23,
      "outputs": [
        {
          "output_type": "execute_result",
          "data": {
            "text/plain": [
              "count     101.000000\n",
              "mean      985.128713\n",
              "std       872.461697\n",
              "min       161.000000\n",
              "25%       161.000000\n",
              "50%       644.000000\n",
              "75%      1610.000000\n",
              "max      4347.000000\n",
              "Name: Value5, dtype: float64"
            ]
          },
          "metadata": {},
          "execution_count": 23
        }
      ]
    },
    {
      "cell_type": "code",
      "source": [
        "user_df_eye_tracking.Snapshot.dtype"
      ],
      "metadata": {
        "colab": {
          "base_uri": "https://localhost:8080/"
        },
        "id": "4f_AZG-CYs8k",
        "outputId": "e6f7b91b-c167-4e25-f1bd-a494ad3ba24d"
      },
      "execution_count": 16,
      "outputs": [
        {
          "output_type": "execute_result",
          "data": {
            "text/plain": [
              "dtype('int64')"
            ]
          },
          "metadata": {},
          "execution_count": 16
        }
      ]
    },
    {
      "cell_type": "markdown",
      "metadata": {
        "id": "yTvSBveuUSIA"
      },
      "source": [
        "# Make the HTTP request using the *requests* module\n",
        "> ## It returns a *task_id*"
      ]
    },
    {
      "cell_type": "code",
      "execution_count": 24,
      "metadata": {
        "colab": {
          "base_uri": "https://localhost:8080/"
        },
        "id": "IVt7LEL1USIA",
        "outputId": "5bb73508-b8a2-4e71-b7a1-82c31970c2ba"
      },
      "outputs": [
        {
          "output_type": "stream",
          "name": "stdout",
          "text": [
            "https://api.ibm.com/timeseriesclass/run/timeseriesclassification/nnrocket\n",
            "\"e51ae121334a4573b8ccd9bfcc763868\"\n"
          ]
        }
      ],
      "source": [
        "nnrocket_svc = \"timeseriesclass/run/timeseriesclassification/nnrocket\"\n",
        "\n",
        "full_svc_url = base_url+nnrocket_svc\n",
        "print(full_svc_url)\n",
        "response = requests.post(full_svc_url, headers=headers, params=params, files=files)\n",
        "task_id = response.text\n",
        "task_id=task_id.replace('\"\"','').rstrip()\n",
        "print(task_id)\n"
      ]
    },
    {
      "cell_type": "markdown",
      "metadata": {
        "id": "WTxqLEhbUSIB"
      },
      "source": [
        "# Make a status check call against the above returned *task_id* "
      ]
    },
    {
      "cell_type": "code",
      "execution_count": 25,
      "metadata": {
        "colab": {
          "base_uri": "https://localhost:8080/"
        },
        "id": "eh9rZ0yDUSIC",
        "outputId": "41b46bd6-fcaf-4304-f0d5-4c1b60e082bf"
      },
      "outputs": [
        {
          "output_type": "stream",
          "name": "stdout",
          "text": [
            "https://api.ibm.com/timeseriesclass/run/timeseriesclassification/status/e51ae121334a4573b8ccd9bfcc763868\n",
            "\"task is running..\"\n",
            "\n"
          ]
        }
      ],
      "source": [
        "status_check_svc = \"timeseriesclass/run/timeseriesclassification/status/\"\n",
        "full_status_check_url = base_url+status_check_svc + task_id.replace('\"', '')\n",
        "print(full_status_check_url)\n",
        "response = requests.get(full_status_check_url, headers=headers)\n",
        "print(response.text)"
      ]
    },
    {
      "cell_type": "markdown",
      "metadata": {
        "id": "NBosMvLJUSID"
      },
      "source": [
        "# Check Again! Using the same *task_id* "
      ]
    },
    {
      "cell_type": "code",
      "execution_count": 26,
      "metadata": {
        "colab": {
          "base_uri": "https://localhost:8080/"
        },
        "id": "un6scrc3USID",
        "outputId": "7bae9ee3-1743-470b-e3db-5bec9e847fc2"
      },
      "outputs": [
        {
          "output_type": "stream",
          "name": "stdout",
          "text": [
            "label,precision,recall,f1-score,support\n",
            "1,0.8863636363636364,0.8666666666666667,0.8764044943820225,45.0\n",
            "2,0.7547169811320755,0.9090909090909091,0.8247422680412373,44.0\n",
            "3,0.7391304347826086,0.8292682926829268,0.7816091954022988,41.0\n",
            "4,0.7555555555555555,0.7555555555555555,0.7555555555555555,45.0\n",
            "5,0.9302325581395349,0.9090909090909091,0.9195402298850575,44.0\n",
            "6,0.8,0.7111111111111111,0.7529411764705882,45.0\n",
            "7,0.8947368421052632,0.7555555555555555,0.8192771084337349,45.0\n",
            "accuracy,0.8187702265372169,0.8187702265372169,0.8187702265372169,0.8187702265372169\n",
            "macro avg,0.8229622868683819,0.8194769999648048,0.818581432595785,309.0\n",
            "weighted avg,0.8239211944502858,0.8187702265372169,0.8187133721298925,309.0\n",
            "\n"
          ]
        }
      ],
      "source": [
        "response = requests.get(full_status_check_url, headers=headers)\n",
        "print(response.text)"
      ]
    },
    {
      "cell_type": "code",
      "execution_count": 28,
      "metadata": {
        "colab": {
          "base_uri": "https://localhost:8080/"
        },
        "id": "d1GQDJmbUSID",
        "outputId": "5a342660-d7d8-44cc-d09d-b4f91e33e704"
      },
      "outputs": [
        {
          "output_type": "stream",
          "name": "stdout",
          "text": [
            "label,precision,recall,f1-score,support\n",
            "1,0.8863636363636364,0.8666666666666667,0.8764044943820225,45.0\n",
            "2,0.7547169811320755,0.9090909090909091,0.8247422680412373,44.0\n",
            "3,0.7391304347826086,0.8292682926829268,0.7816091954022988,41.0\n",
            "4,0.7555555555555555,0.7555555555555555,0.7555555555555555,45.0\n",
            "5,0.9302325581395349,0.9090909090909091,0.9195402298850575,44.0\n",
            "6,0.8,0.7111111111111111,0.7529411764705882,45.0\n",
            "7,0.8947368421052632,0.7555555555555555,0.8192771084337349,45.0\n",
            "accuracy,0.8187702265372169,0.8187702265372169,0.8187702265372169,0.8187702265372169\n",
            "macro avg,0.8229622868683819,0.8194769999648048,0.818581432595785,309.0\n",
            "weighted avg,0.8239211944502858,0.8187702265372169,0.8187133721298925,309.0\n",
            "\n"
          ]
        }
      ],
      "source": [
        "response = requests.get(full_status_check_url, headers=headers)\n",
        "print(response.text)"
      ]
    }
  ],
  "metadata": {
    "kernelspec": {
      "display_name": "Python 3 (ipykernel)",
      "language": "python",
      "name": "python3"
    },
    "language_info": {
      "codemirror_mode": {
        "name": "ipython",
        "version": 3
      },
      "file_extension": ".py",
      "mimetype": "text/x-python",
      "name": "python",
      "nbconvert_exporter": "python",
      "pygments_lexer": "ipython3",
      "version": "3.9.7"
    },
    "colab": {
      "provenance": []
    }
  },
  "nbformat": 4,
  "nbformat_minor": 0
}